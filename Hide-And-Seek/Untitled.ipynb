{
 "cells": [
  {
   "cell_type": "markdown",
   "id": "e8a4bc56-1200-4dba-82f3-e1edceea53d3",
   "metadata": {},
   "source": [
    "TODO:"
   ]
  },
  {
   "cell_type": "markdown",
   "id": "bfc02242-8b1f-4fb5-9e71-cfac7e9edabb",
   "metadata": {},
   "source": [
    "Better inputs for AI\n",
    "\n",
    "HIDER mode:\n",
    "                           \n",
    "My location\n",
    "\n",
    "My distance to you\n",
    "\n",
    "Are you close?\n",
    "\n",
    "My angle to you if you are close\n",
    "\n",
    "Hider = True\n",
    "\n",
    "\n",
    "\n",
    "Seeker mode:\n",
    "\n",
    "My location\n",
    "\n",
    "My distance to you\n",
    "\n",
    "Are you close?\n",
    "\n",
    "my angle to you if you are close\n",
    "\n",
    "Hider = False"
   ]
  },
  {
   "cell_type": "code",
   "execution_count": null,
   "id": "409cce7b-9449-4439-8155-bf26293b814a",
   "metadata": {},
   "outputs": [],
   "source": []
  }
 ],
 "metadata": {
  "kernelspec": {
   "display_name": "Python 3 (ipykernel)",
   "language": "python",
   "name": "python3"
  },
  "language_info": {
   "codemirror_mode": {
    "name": "ipython",
    "version": 3
   },
   "file_extension": ".py",
   "mimetype": "text/x-python",
   "name": "python",
   "nbconvert_exporter": "python",
   "pygments_lexer": "ipython3",
   "version": "3.10.2"
  }
 },
 "nbformat": 4,
 "nbformat_minor": 5
}
